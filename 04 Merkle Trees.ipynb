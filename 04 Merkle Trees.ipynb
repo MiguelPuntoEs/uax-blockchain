{
 "cells": [
  {
   "cell_type": "markdown",
   "id": "704bf9c0",
   "metadata": {},
   "source": [
    "# Merkle Trees"
   ]
  },
  {
   "cell_type": "code",
   "execution_count": 80,
   "id": "7af56960",
   "metadata": {},
   "outputs": [],
   "source": [
    "from utils import sha256d\n",
    "\n",
    "def merkle_parent(a: bytes, b: bytes) -> bytes:\n",
    "    return sha256d(a + b)  # concatenation of raw bytes\n",
    "\n",
    "def merkle_root(hashes: list[bytes]) -> bytes:\n",
    "    while len(hashes) > 1:\n",
    "        if len(hashes) % 2 == 1:\n",
    "            hashes.append(hashes[-1])  # duplicate last if odd\n",
    "        hashes = [merkle_parent(hashes[i], hashes[i+1]) for i in range(0, len(hashes), 2)]\n",
    "    return hashes[0]"
   ]
  },
  {
   "cell_type": "code",
   "execution_count": null,
   "id": "397c288e",
   "metadata": {},
   "outputs": [
    {
     "data": {
      "text/plain": [
       "['9d79b1a37f31801cd11a6706fb40d6bd57526846903bb13ede562439e9c1b823',\n",
       " 'a96089bca71f3d1a6d2d3cadb3669cbd50e165e434249d8b829f411669842a97',\n",
       " '9911036cf3e822086ecaa0075a69fc178ba8f83718aa8f3bd1f65e8144e61d9a',\n",
       " 'b30fcb06a6c1ad8f2906e732b10f4db789d35ea68c088ab3f648818ba4a6656b',\n",
       " 'e0cb6e382a5dff72ac1dda96908137478bd536cf4b778ade1fe7a9010b3341c2',\n",
       " 'bd2b4acec46edf287a43b9b21175306c76a81a57899322473081cd277bcd1e37',\n",
       " '63ea0bf5ee5974c3790f2b56ed732a1a1131be177dea42619767c2188e12e65b']"
      ]
     },
     "execution_count": 74,
     "metadata": {},
     "output_type": "execute_result"
    }
   ],
   "source": [
    "import random\n",
    "\n",
    "random.seed(42)\n",
    "\n",
    "# generate N random hashes (each 32 bytes long)\n",
    "def random_hashes(n: int) -> list[bytes]:\n",
    "    # return [os.urandom(32) for _ in range(n)]\n",
    "    return [random.randbytes(32) for _ in range(n)]\n",
    "\n",
    "hashes = random_hashes(7)\n",
    "\n",
    "[hash.hex() for hash in hashes]"
   ]
  },
  {
   "cell_type": "code",
   "execution_count": 75,
   "id": "ced5d84b",
   "metadata": {},
   "outputs": [
    {
     "data": {
      "text/plain": [
       "'d4428a8944bd7820b5f65b5be891f2c232c658e6201cd6afee827b6c9c2c1735'"
      ]
     },
     "execution_count": 75,
     "metadata": {},
     "output_type": "execute_result"
    }
   ],
   "source": [
    "merkle_root(hashes).hex()"
   ]
  },
  {
   "cell_type": "code",
   "execution_count": 76,
   "id": "d4ba3bc6",
   "metadata": {},
   "outputs": [
    {
     "data": {
      "text/plain": [
       "'251d36c909d63bfffb8e442e1d1d1720f489bacd3116306a7b7b3984459733fa'"
      ]
     },
     "execution_count": 76,
     "metadata": {},
     "output_type": "execute_result"
    }
   ],
   "source": [
    "# Se observa que al cambiar el orden de los hashes la Merkle root cambia\n",
    "merkle_root(hashes[::-1]).hex()"
   ]
  },
  {
   "cell_type": "code",
   "execution_count": 79,
   "id": "7989e14d",
   "metadata": {},
   "outputs": [
    {
     "data": {
      "text/plain": [
       "'957893daab501481ebb2dc75dfaa2bcf0f62183f7bc475a2a09cbd8dd112746d'"
      ]
     },
     "execution_count": 79,
     "metadata": {},
     "output_type": "execute_result"
    }
   ],
   "source": [
    "merkle_root(random.sample(hashes, len(hashes))).hex()"
   ]
  }
 ],
 "metadata": {
  "kernelspec": {
   "display_name": "uax-blockchain",
   "language": "python",
   "name": "python3"
  },
  "language_info": {
   "codemirror_mode": {
    "name": "ipython",
    "version": 3
   },
   "file_extension": ".py",
   "mimetype": "text/x-python",
   "name": "python",
   "nbconvert_exporter": "python",
   "pygments_lexer": "ipython3",
   "version": "3.13.5"
  }
 },
 "nbformat": 4,
 "nbformat_minor": 5
}
