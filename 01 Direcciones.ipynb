{
 "cells": [
  {
   "cell_type": "markdown",
   "id": "807347c0",
   "metadata": {},
   "source": [
    "# Generación de direcciones en Bitcoin"
   ]
  },
  {
   "cell_type": "code",
   "execution_count": null,
   "id": "56952a37",
   "metadata": {},
   "outputs": [
    {
     "name": "stdout",
     "output_type": "stream",
     "text": [
      "Clave privada (hex): 6621cc98ad248716c7901c6b6e03c9f857f44bf503cf68378c8f83f53f4d6c21\n"
     ]
    }
   ],
   "source": [
    "import os\n",
    "import ecdsa\n",
    "import hashlib\n",
    "\n",
    "# 1. Generar clave privada (32 bytes aleatorios)\n",
    "private_key = os.urandom(32)\n",
    "print(\"Clave privada (hex):\", private_key.hex())"
   ]
  },
  {
   "cell_type": "code",
   "execution_count": 18,
   "id": "b8068e5f",
   "metadata": {},
   "outputs": [],
   "source": [
    "# 2. Crear objeto de clave privada con curva secp256k1\n",
    "sk = ecdsa.SigningKey.from_string(private_key, curve=ecdsa.SECP256k1)"
   ]
  },
  {
   "cell_type": "code",
   "execution_count": 19,
   "id": "b29f83ee",
   "metadata": {},
   "outputs": [
    {
     "name": "stdout",
     "output_type": "stream",
     "text": [
      "Clave pública (hex): 0422130d0b7fb3725bde1c4944ad9e1e5ba0d680879664f34b622c573dcd213c1cdce4aee9fd7b66722bfb581da8d7386a098cfa592b2443181e89ff9177e0116c\n"
     ]
    }
   ],
   "source": [
    "# 3. Derivar clave pública (sin comprimir)\n",
    "vk = sk.get_verifying_key()\n",
    "public_key_bytes = b'\\04' + vk.to_string()  # 0x04 = indicador de clave sin comprimir\n",
    "print(\"Clave pública (hex):\", public_key_bytes.hex())"
   ]
  },
  {
   "cell_type": "code",
   "execution_count": 20,
   "id": "74e3cd85",
   "metadata": {},
   "outputs": [],
   "source": [
    "# 4. Hash de la clave pública (SHA-256 → RIPEMD160)\n",
    "sha256_hash = hashlib.sha256(public_key_bytes).digest()\n",
    "ripemd160 = hashlib.new('ripemd160')\n",
    "ripemd160.update(sha256_hash)\n",
    "public_key_hash = ripemd160.digest()"
   ]
  },
  {
   "cell_type": "code",
   "execution_count": 22,
   "id": "378e59fe",
   "metadata": {},
   "outputs": [
    {
     "name": "stdout",
     "output_type": "stream",
     "text": [
      "Dirección Bitcoin: 1HxsZLXVtDtxyrnqbmVzEj3sjtdELg6fhS\n"
     ]
    }
   ],
   "source": [
    "# 5. Agregar versión (0x00 para mainnet)\n",
    "versioned_payload = b'\\x00' + public_key_hash\n",
    "\n",
    "# 6. Checksum (SHA256 doble, primeros 4 bytes)\n",
    "checksum = hashlib.sha256(hashlib.sha256(versioned_payload).digest()).digest()[:4]\n",
    "\n",
    "ALPHABET = \"123456789ABCDEFGHJKLMNPQRSTUVWXYZabcdefghijkmnopqrstuvwxyz\"\n",
    "def b58encode(b: bytes) -> str:\n",
    "    n = int.from_bytes(b, \"big\")\n",
    "    s = \"\"\n",
    "    while n > 0:\n",
    "        n, r = divmod(n, 58)\n",
    "        s = ALPHABET[r] + s\n",
    "    pad = 0\n",
    "    for c in b:\n",
    "        if c == 0: pad += 1\n",
    "        else: break\n",
    "    return (\"1\" * pad) + s\n",
    "    \n",
    "# 7. Dirección final en Base58Check\n",
    "address = b58encode(versioned_payload + checksum)\n",
    "print(\"Dirección Bitcoin:\", address)"
   ]
  }
 ],
 "metadata": {
  "kernelspec": {
   "display_name": "uax-blockchain",
   "language": "python",
   "name": "python3"
  },
  "language_info": {
   "codemirror_mode": {
    "name": "ipython",
    "version": 3
   },
   "file_extension": ".py",
   "mimetype": "text/x-python",
   "name": "python",
   "nbconvert_exporter": "python",
   "pygments_lexer": "ipython3",
   "version": "3.13.5"
  }
 },
 "nbformat": 4,
 "nbformat_minor": 5
}
